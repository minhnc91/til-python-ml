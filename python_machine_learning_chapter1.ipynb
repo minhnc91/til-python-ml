{
 "cells": [
  {
   "cell_type": "markdown",
   "metadata": {},
   "source": [
    "# The three different types of machine learning\n",
    "\n",
    "- supervised learning\n",
    "  - classification\n",
    "  - regression\n",
    "- unsupervised learning\n",
    "  - Clustering\n",
    "- reinforcement learning\n",
    "\n",
    "# Using Python for machine learning\n",
    "\n",
    "\n",
    "# Installing Python packages\n",
    "\n",
    "- NumPy 1.9.1\n",
    "- SciPy 0.14.0\n",
    "- scikit-learn 0.15.2\n",
    "- matplotlib 1.4.0\n",
    "- pandas 0.15.2"
   ]
  }
 ],
 "metadata": {
  "kernelspec": {
   "display_name": "Python 3",
   "language": "python",
   "name": "python3"
  },
  "language_info": {
   "codemirror_mode": {
    "name": "ipython",
    "version": 3
   },
   "file_extension": ".py",
   "mimetype": "text/x-python",
   "name": "python",
   "nbconvert_exporter": "python",
   "pygments_lexer": "ipython3",
   "version": "3.6.0"
  }
 },
 "nbformat": 4,
 "nbformat_minor": 2
}
